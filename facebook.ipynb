{
 "cells": [
  {
   "cell_type": "code",
   "execution_count": 1,
   "metadata": {},
   "outputs": [],
   "source": [
    "from selenium import webdriver\n",
    "from getpass import getpass"
   ]
  },
  {
   "cell_type": "code",
   "execution_count": 2,
   "metadata": {},
   "outputs": [
    {
     "name": "stdout",
     "output_type": "stream",
     "text": [
      "Enter your username or email_id sanketsanglikar54@gmail.com\n",
      "enter your password ········\n"
     ]
    }
   ],
   "source": [
    "user=input('Enter your username or email_id ')\n",
    "pwd=getpass('enter your password ')\n",
    "linked=[]"
   ]
  },
  {
   "cell_type": "code",
   "execution_count": 3,
   "metadata": {},
   "outputs": [],
   "source": [
    "driver = webdriver.Firefox(executable_path=r'your geeko driver path\geckodriver.exe')\n",
    "driver.get('https://www.facebook.com/')"
   ]
  },
  {
   "cell_type": "code",
   "execution_count": 4,
   "metadata": {},
   "outputs": [],
   "source": [
    "username_box=driver.find_element_by_id('email')\n",
    "username_box.send_keys(user)\n",
    "password_box=driver.find_element_by_id('pass')\n",
    "password_box.send_keys(pwd)\n",
    "login_btn=driver.find_element_by_id('loginbutton')\n",
    "login_btn.submit()\n",
    "driver.implicitly_wait(30)"
   ]
  },
  {
   "cell_type": "code",
   "execution_count": 5,
   "metadata": {},
   "outputs": [],
   "source": [
    "data=['Puneet Jindal','Deep Dhillon']"
   ]
  },
  {
   "cell_type": "code",
   "execution_count": 6,
   "metadata": {},
   "outputs": [],
   "source": [
    "for i in data:\n",
    "    search=driver.find_element_by_name('q')\n",
    "    search.send_keys('{}'.format(i))\n",
    "    search_btn=driver.find_element_by_class_name('_585_')\n",
    "    search_btn.submit()\n",
    "    links=driver.find_elements_by_link_text(i)\n",
    "    driver.implicitly_wait(30)\n",
    "    for i in links:\n",
    "        linked.append(i.get_attribute('href'))\n",
    "    search=driver.find_element_by_name('q')\n",
    "    search.clear()"
   ]
  },
  {
   "cell_type": "code",
   "execution_count": 7,
   "metadata": {},
   "outputs": [
    {
     "data": {
      "text/plain": [
       "['https://www.facebook.com/puneet.pjl',\n",
       " 'https://www.facebook.com/puneetjindal184',\n",
       " 'https://www.facebook.com/puneet.jindal.94',\n",
       " 'https://www.facebook.com/puneet.jindal.716',\n",
       " 'https://www.facebook.com/puneet.jindal.792',\n",
       " 'https://www.facebook.com/deepdhillon/',\n",
       " 'https://www.facebook.com/deepdhillon/?ref=search&__tn__=%2Cd%2CP-R&eid=ARAx5WeOnQy55DvkFWq8gDAYY4aqcZg-HNAD5hZM6jzqLFedXZTmZp5rwvAaPo21Kr3-rBTf_pEWgbNU',\n",
       " 'https://www.facebook.com/deepdhillon/?ref=search&__tn__=%2Cd%2CP-R&eid=ARCpemuapzk7vTuL2u7bUjM_gjyzrPOOayTIlm18AYn5ROe901oQAFFg1kLhPVXHBaCdK9iORfOF_8cq',\n",
       " 'https://www.facebook.com/deepdhillon/?ref=search&__tn__=%2Cd%2CP-R&eid=ARA-N4LKZQED5_VVEj6Dqwuzl2iST-7bcp45ZJN-L-dqgZwTp4B3h0Jert8rb-BsuvbKalGq7ERhTfKi',\n",
       " 'https://www.facebook.com/deep.dhillon.3726613',\n",
       " 'https://www.facebook.com/deep.dhillon.50746']"
      ]
     },
     "execution_count": 7,
     "metadata": {},
     "output_type": "execute_result"
    }
   ],
   "source": [
    "linked"
   ]
  },
  {
   "cell_type": "code",
   "execution_count": null,
   "metadata": {},
   "outputs": [],
   "source": []
  }
 ],
 "metadata": {
  "kernelspec": {
   "display_name": "Python 3",
   "language": "python",
   "name": "python3"
  },
  "language_info": {
   "codemirror_mode": {
    "name": "ipython",
    "version": 3
   },
   "file_extension": ".py",
   "mimetype": "text/x-python",
   "name": "python",
   "nbconvert_exporter": "python",
   "pygments_lexer": "ipython3",
   "version": "3.7.4"
  }
 },
 "nbformat": 4,
 "nbformat_minor": 2
}
